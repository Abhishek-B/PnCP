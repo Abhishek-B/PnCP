{
 "cells": [
  {
   "cell_type": "markdown",
   "id": "02845294",
   "metadata": {},
   "source": [
    "# PnCP\n",
    "\n",
    "This MATLAB package is built for quantum entanglement detection and constructing positive maps which are not completely positive.  \n",
    "\n",
    "## Dependencies\n",
    "- [MOSEK](https://www.mosek.com/) or [SeDuMi](https://sedumi.ie.lehigh.edu/)\n",
    "- [YALMIP (2019 April release)](https://yalmip.github.io/R20190425) \n",
    "\n",
    "PnCP has been tested on Ubuntu and MacOS. \n",
    "\n",
    "\n",
    "## Usage\n",
    "To use PnCP, add the entire matlab archive to path. The 'demo.m' file demonstrates the two main commands. \n",
    "### Generating a positive map which is not completely positive (pncp map). \n",
    "To generate a (rational) positive map $\\Phi:\\mathbb{R}^{3\\times 3}\\mapsto\\mathbb{R}^{3\\times 3}$ use the ``Gen_PnCP`` command, e.g.,\n",
    "```\n",
    "Phi = Gen_PnCP(3,3,'mosek','CNR',2,2,rationalize=1);\n",
    "```\n",
    "Details for the input arguments can be learnt using\n",
    "```\n",
    "help('Gen_PnCP')\n",
    "```\n",
    "### Testing Entanglement of a Quantum State\n",
    "Given a quantum state $\\rho$ along with its density matrix $P$, to generate a rational pncp map which can detect the entanglement of $\\rho$, use the command ``Ent_PnCP``, e.g.\n",
    "```\n",
    "output = Ent_PnCP(M,N,m,P,attempts);\n",
    "Phi = output{1,1};\n",
    "ampliation = output{1,2};\n",
    "```\n",
    "where $M, N$ are the dimensions of the composite systems for $\\rho$, $m$ is the dimension of the codomain of the desired $\\Phi$ and ``attemps`` is the number of trials to conduct.  \n",
    "Details for the input arguments can be learnt using\n",
    "```\n",
    "help('Ent_PnCP')\n",
    "```\n",
    "If only a floating point map $\\Phi$ is required, there is a similar command ``EntF_PnCP``.\n",
    "\n",
    "## Licensing \n",
    "PnCP is released under the conditions of the [GNU General Public License 3.0](https://www.gnu.org/licenses/gpl-3.0.html)\n",
    "\n",
    "## References\n",
    "Performance standards, examples and details of PnCP can be found in the article  \n",
    "[1] [Practical construction of positive maps which are not completely positive](https://arxiv.org/abs/2001.01181).  \n",
    "If you use PnCP, please cite the above article for its use.  \n",
    "\n",
    "The construction used in PnCP is from the article  \n",
    "[2] [There are many more positive maps than completely positive maps](https://academic.oup.com/imrn/article/2019/11/3313/4210362?login=true).\n",
    "\n",
    "## Contact\n",
    "Abhishek Bhardwaj : Abhishek 'dot' Bhardwaj 'dot' Maths 'at' gmail 'dot' com\n"
   ]
  }
 ],
 "metadata": {
  "kernelspec": {
   "display_name": "Python 3",
   "language": "python",
   "name": "python3"
  },
  "language_info": {
   "codemirror_mode": {
    "name": "ipython",
    "version": 3
   },
   "file_extension": ".py",
   "mimetype": "text/x-python",
   "name": "python",
   "nbconvert_exporter": "python",
   "pygments_lexer": "ipython3",
   "version": "3.8.8"
  }
 },
 "nbformat": 4,
 "nbformat_minor": 5
}
